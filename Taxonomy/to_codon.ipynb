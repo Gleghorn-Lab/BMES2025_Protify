{
 "cells": [
  {
   "cell_type": "code",
   "execution_count": 6,
   "id": "fe7fa89b",
   "metadata": {},
   "outputs": [],
   "source": [
    "from Bio import SeqIO\n",
    "from datasets import load_dataset\n",
    "from tqdm.auto import tqdm\n",
    "\n",
    "from query import get_dna_sequence_from_uniprot"
   ]
  },
  {
   "cell_type": "code",
   "execution_count": 7,
   "id": "2f28e4c5",
   "metadata": {},
   "outputs": [],
   "source": [
    "email = 'lhallee@udel.edu'"
   ]
  },
  {
   "cell_type": "code",
   "execution_count": null,
   "id": "7cb184fa",
   "metadata": {},
   "outputs": [],
   "source": [
    "datasets = [\n",
    "    'GleghornLab/taxonomy_domain_0.4_clusters',\n",
    "    'GleghornLab/taxonomy_kingdom_0.4_clusters',\n",
    "    'GleghornLab/taxonomy_phylum_0.4_clusters',\n",
    "    'GleghornLab/taxonomy_class_0.4_clusters',\n",
    "    'GleghornLab/taxonomy_order_0.4_clusters',\n",
    "    'GleghornLab/taxonomy_family_0.4_clusters',\n",
    "    'GleghornLab/taxonomy_genus_0.4_clusters',\n",
    "    'GleghornLab/taxonomy_species_0.4_clusters',\n",
    "    'GleghornLab/diff_phylo',\n",
    "]"
   ]
  },
  {
   "cell_type": "code",
   "execution_count": 4,
   "id": "5952e77a",
   "metadata": {},
   "outputs": [
    {
     "name": "stdout",
     "output_type": "stream",
     "text": [
      "567299\n"
     ]
    }
   ],
   "source": [
    "fasta_file = 'all.fasta'\n",
    "\n",
    "\n",
    "ids = []\n",
    "with open(fasta_file, 'r') as f:\n",
    "    entries = SeqIO.parse(f, 'fasta')\n",
    "    for entry in entries:\n",
    "        ids.append(str(entry.id))\n",
    "\n",
    "print(len(ids))"
   ]
  },
  {
   "cell_type": "code",
   "execution_count": 8,
   "id": "6d13067b",
   "metadata": {},
   "outputs": [
    {
     "data": {
      "application/vnd.jupyter.widget-view+json": {
       "model_id": "5ee90c20bcd146da87f33f96d9810384",
       "version_major": 2,
       "version_minor": 0
      },
      "text/plain": [
       "  0%|          | 0/567299 [00:00<?, ?it/s]"
      ]
     },
     "metadata": {},
     "output_type": "display_data"
    },
    {
     "name": "stdout",
     "output_type": "stream",
     "text": [
      "-> Starting process for A0A009IHW8...\n",
      "Step 1: Mapped A0A009IHW8 to Nucleotide ID: JEWH01000055\n",
      "Step 2: Mapped A0A009IHW8 to Protein ID: EXB04249.1\n",
      "Step 3: Fetched GenBank record 'JEWH01000055.1'\n",
      "Step 4: Found matching CDS feature for EXB04249.1. Extracting sequence...\n",
      "-> Starting process for A0A023I7E1...\n",
      "Step 1: Mapped A0A023I7E1 to Nucleotide ID: KC847083\n",
      "Step 2: Mapped A0A023I7E1 to Protein ID: AGV00786.1\n",
      "Step 3: Fetched GenBank record 'KC847083.1'\n",
      "Step 4: Found matching CDS feature for AGV00786.1. Extracting sequence...\n",
      "-> Starting process for A0A024RXP8...\n",
      "Step 1: Mapped A0A024RXP8 to Nucleotide ID: KI911168\n",
      "Step 2: Mapped A0A024RXP8 to Protein ID: ETR97652.1\n",
      "Step 3: Fetched GenBank record 'KI911168.1'\n",
      "Step 4: Found matching CDS feature for ETR97652.1. Extracting sequence...\n",
      "Error fetching or parsing GenBank record KI911168: Sequence content is undefined\n",
      "-> Starting process for A0A024SC78...\n",
      "Step 1: Mapped A0A024SC78 to Nucleotide ID: KI911144\n",
      "Step 2: Mapped A0A024SC78 to Protein ID: ETS02914.1\n",
      "Step 3: Fetched GenBank record 'KI911144.1'\n",
      "Error: Could not find a matching CDS feature for ETS02914.1 in record KI911144.\n",
      "-> Starting process for A0A024SH76...\n",
      "Step 1: Mapped A0A024SH76 to Nucleotide ID: KI911141\n",
      "Step 2: Mapped A0A024SH76 to Protein ID: ETS04894.1\n",
      "Step 3: Fetched GenBank record 'KI911141.1'\n",
      "Error: Could not find a matching CDS feature for ETS04894.1 in record KI911141.\n",
      "-> Starting process for A0A026W182...\n",
      "Step 1: Mapped A0A026W182 to Nucleotide ID: KK107522\n",
      "Step 2: Mapped A0A026W182 to Protein ID: EZA49341.1\n",
      "Step 3: Fetched GenBank record 'KK107522.1'\n",
      "Step 4: Found matching CDS feature for EZA49341.1. Extracting sequence...\n",
      "Error fetching or parsing GenBank record KK107522: Sequence content is undefined\n",
      "-> Starting process for A0A044RE18...\n",
      "Step 1: Mapped A0A044RE18 to Nucleotide ID: AY157026\n",
      "Step 2: Mapped A0A044RE18 to Protein ID: AAO12507.1\n",
      "Step 3: Fetched GenBank record 'AY157026.1'\n",
      "Step 4: Found matching CDS feature for AAO12507.1. Extracting sequence...\n",
      "-> Starting process for A0A059TC02...\n",
      "Step 1: Mapped A0A059TC02 to Nucleotide ID: KF040494\n",
      "Step 2: Mapped A0A059TC02 to Protein ID: AHX56186.1\n",
      "Step 3: Fetched GenBank record 'KF040494.1'\n",
      "Step 4: Found matching CDS feature for AHX56186.1. Extracting sequence...\n",
      "-> Starting process for A0A059WI14...\n",
      "Step 1: Mapped A0A059WI14 to Nucleotide ID: KF899847\n",
      "Step 2: Mapped A0A059WI14 to Protein ID: AIA09488.1\n",
      "Step 3: Fetched GenBank record 'KF899847.1'\n",
      "Step 4: Found matching CDS feature for AIA09488.1. Extracting sequence...\n",
      "-> Starting process for A0A060A682...\n",
      "Step 1: Mapped A0A060A682 to Nucleotide ID: KJ629172\n",
      "Step 2: Mapped A0A060A682 to Protein ID: AIA57699.1\n",
      "Step 3: Fetched GenBank record 'KJ629172.1'\n",
      "Step 4: Found matching CDS feature for AIA57699.1. Extracting sequence...\n",
      "-> Starting process for A0A061I403...\n",
      "Step 1: Mapped A0A061I403 to Nucleotide ID: KE674650\n",
      "Step 2: Mapped A0A061I403 to Protein ID: ERE76236.1\n",
      "Step 3: Fetched GenBank record 'KE674650.1'\n",
      "Step 4: Found matching CDS feature for ERE76236.1. Extracting sequence...\n",
      "Error fetching or parsing GenBank record KE674650: Sequence content is undefined\n",
      "-> Starting process for A0A067CMC7...\n"
     ]
    },
    {
     "ename": "KeyboardInterrupt",
     "evalue": "",
     "output_type": "error",
     "traceback": [
      "\u001b[1;31m---------------------------------------------------------------------------\u001b[0m",
      "\u001b[1;31mKeyboardInterrupt\u001b[0m                         Traceback (most recent call last)",
      "Cell \u001b[1;32mIn[8], line 3\u001b[0m\n\u001b[0;32m      1\u001b[0m dna_sequences \u001b[38;5;241m=\u001b[39m {}\n\u001b[0;32m      2\u001b[0m \u001b[38;5;28;01mfor\u001b[39;00m \u001b[38;5;28mid\u001b[39m \u001b[38;5;129;01min\u001b[39;00m tqdm(ids):\n\u001b[1;32m----> 3\u001b[0m     dna_sequence \u001b[38;5;241m=\u001b[39m \u001b[43mget_dna_sequence_from_uniprot\u001b[49m\u001b[43m(\u001b[49m\u001b[38;5;28;43mid\u001b[39;49m\u001b[43m,\u001b[49m\u001b[43m \u001b[49m\u001b[43memail\u001b[49m\u001b[43m)\u001b[49m\n\u001b[0;32m      4\u001b[0m     \u001b[38;5;28;01mif\u001b[39;00m dna_sequence:\n\u001b[0;32m      5\u001b[0m         dna_sequences[\u001b[38;5;28mid\u001b[39m] \u001b[38;5;241m=\u001b[39m dna_sequence\n",
      "File \u001b[1;32mc:\\Users\\lhall\\Desktop\\Research\\BMES2025_Protify\\Taxonomy\\query.py:66\u001b[0m, in \u001b[0;36mget_dna_sequence_from_uniprot\u001b[1;34m(uniprot_id, email)\u001b[0m\n\u001b[0;32m     64\u001b[0m \u001b[38;5;28mprint\u001b[39m(\u001b[38;5;124mf\u001b[39m\u001b[38;5;124m\"\u001b[39m\u001b[38;5;124m-> Starting process for \u001b[39m\u001b[38;5;132;01m{\u001b[39;00muniprot_id\u001b[38;5;132;01m}\u001b[39;00m\u001b[38;5;124m...\u001b[39m\u001b[38;5;124m\"\u001b[39m)\n\u001b[0;32m     65\u001b[0m nucleotide_id \u001b[38;5;241m=\u001b[39m _map_uniprot_id(uniprot_id, \u001b[38;5;124m\"\u001b[39m\u001b[38;5;124mEMBL-GenBank-DDBJ\u001b[39m\u001b[38;5;124m\"\u001b[39m)\n\u001b[1;32m---> 66\u001b[0m protein_id \u001b[38;5;241m=\u001b[39m \u001b[43m_map_uniprot_id\u001b[49m\u001b[43m(\u001b[49m\u001b[43muniprot_id\u001b[49m\u001b[43m,\u001b[49m\u001b[43m \u001b[49m\u001b[38;5;124;43m\"\u001b[39;49m\u001b[38;5;124;43mEMBL-GenBank-DDBJ_CDS\u001b[39;49m\u001b[38;5;124;43m\"\u001b[39;49m\u001b[43m)\u001b[49m\n\u001b[0;32m     68\u001b[0m \u001b[38;5;28;01mif\u001b[39;00m \u001b[38;5;129;01mnot\u001b[39;00m nucleotide_id:\n\u001b[0;32m     69\u001b[0m     \u001b[38;5;28mprint\u001b[39m(\u001b[38;5;124mf\u001b[39m\u001b[38;5;124m\"\u001b[39m\u001b[38;5;124mError: Could not map \u001b[39m\u001b[38;5;132;01m{\u001b[39;00muniprot_id\u001b[38;5;132;01m}\u001b[39;00m\u001b[38;5;124m to a Nucleotide record.\u001b[39m\u001b[38;5;124m\"\u001b[39m)\n",
      "File \u001b[1;32mc:\\Users\\lhall\\Desktop\\Research\\BMES2025_Protify\\Taxonomy\\query.py:29\u001b[0m, in \u001b[0;36m_map_uniprot_id\u001b[1;34m(uniprot_id, target_db)\u001b[0m\n\u001b[0;32m     27\u001b[0m     \u001b[38;5;28;01mif\u001b[39;00m \u001b[38;5;124m\"\u001b[39m\u001b[38;5;124mresults\u001b[39m\u001b[38;5;124m\"\u001b[39m \u001b[38;5;129;01min\u001b[39;00m status \u001b[38;5;129;01mor\u001b[39;00m status\u001b[38;5;241m.\u001b[39mget(\u001b[38;5;124m\"\u001b[39m\u001b[38;5;124mjobStatus\u001b[39m\u001b[38;5;124m\"\u001b[39m) \u001b[38;5;241m!=\u001b[39m \u001b[38;5;124m\"\u001b[39m\u001b[38;5;124mRUNNING\u001b[39m\u001b[38;5;124m\"\u001b[39m:\n\u001b[0;32m     28\u001b[0m         \u001b[38;5;28;01mbreak\u001b[39;00m\n\u001b[1;32m---> 29\u001b[0m     time\u001b[38;5;241m.\u001b[39msleep(\u001b[38;5;241m1\u001b[39m)\n\u001b[0;32m     31\u001b[0m results_data \u001b[38;5;241m=\u001b[39m requests\u001b[38;5;241m.\u001b[39mget(\u001b[38;5;124mf\u001b[39m\u001b[38;5;124m\"\u001b[39m\u001b[38;5;124mhttps://rest.uniprot.org/idmapping/results/\u001b[39m\u001b[38;5;132;01m{\u001b[39;00mjob_id\u001b[38;5;132;01m}\u001b[39;00m\u001b[38;5;124m\"\u001b[39m)\u001b[38;5;241m.\u001b[39mjson()\n\u001b[0;32m     32\u001b[0m \u001b[38;5;28;01mif\u001b[39;00m \u001b[38;5;129;01mnot\u001b[39;00m results_data\u001b[38;5;241m.\u001b[39mget(\u001b[38;5;124m\"\u001b[39m\u001b[38;5;124mresults\u001b[39m\u001b[38;5;124m\"\u001b[39m):\n",
      "\u001b[1;31mKeyboardInterrupt\u001b[0m: "
     ]
    }
   ],
   "source": [
    "dna_sequences = {}\n",
    "for id in tqdm(ids):\n",
    "    dna_sequence = get_dna_sequence_from_uniprot(id, email)\n",
    "    if dna_sequence:\n",
    "        dna_sequences[id] = dna_sequence\n",
    "\n",
    "\n",
    "print(len(dna_sequences))\n",
    "for k, v in dna_sequences.items():\n",
    "    print(k, v)\n",
    "    break"
   ]
  }
 ],
 "metadata": {
  "kernelspec": {
   "display_name": "Python 3",
   "language": "python",
   "name": "python3"
  },
  "language_info": {
   "codemirror_mode": {
    "name": "ipython",
    "version": 3
   },
   "file_extension": ".py",
   "mimetype": "text/x-python",
   "name": "python",
   "nbconvert_exporter": "python",
   "pygments_lexer": "ipython3",
   "version": "3.11.8"
  }
 },
 "nbformat": 4,
 "nbformat_minor": 5
}
