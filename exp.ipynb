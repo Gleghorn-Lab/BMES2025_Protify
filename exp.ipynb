{
 "cells": [
  {
   "cell_type": "code",
   "execution_count": 2,
   "metadata": {},
   "outputs": [],
   "source": [
    "import torch\n",
    "import torch.nn.functional as F"
   ]
  },
  {
   "cell_type": "code",
   "execution_count": 8,
   "metadata": {},
   "outputs": [
    {
     "data": {
      "text/plain": [
       "torch.Size([8, 128, 10])"
      ]
     },
     "execution_count": 8,
     "metadata": {},
     "output_type": "execute_result"
    }
   ],
   "source": [
    "b, l, d, n = 8, 128, 256, 10\n",
    "\n",
    "\n",
    "x = torch.randn(b, l, d)\n",
    "p = torch.randn(b, d, n)\n",
    "\n",
    "x = F.normalize(x, p=2, dim=-1)\n",
    "p = F.normalize(p, p=2, dim=-1)\n",
    "cos_sims = torch.matmul(x, p)\n",
    "cos_sims.shape"
   ]
  },
  {
   "cell_type": "code",
   "execution_count": 9,
   "metadata": {},
   "outputs": [
    {
     "data": {
      "text/plain": [
       "(tensor(1.1605), tensor(-1.1001))"
      ]
     },
     "execution_count": 9,
     "metadata": {},
     "output_type": "execute_result"
    }
   ],
   "source": [
    "cos_sims.max(), cos_sims.min()"
   ]
  },
  {
   "cell_type": "code",
   "execution_count": 2,
   "metadata": {},
   "outputs": [],
   "source": [
    "import numpy as np\n",
    "from sklearn.metrics import f1_score"
   ]
  },
  {
   "cell_type": "code",
   "execution_count": 9,
   "metadata": {},
   "outputs": [
    {
     "data": {
      "text/plain": [
       "0.4878048780487805"
      ]
     },
     "execution_count": 9,
     "metadata": {},
     "output_type": "execute_result"
    }
   ],
   "source": [
    "positives = np.ones(10)\n",
    "negatives = np.zeros(200)\n",
    "predictions = np.zeros(210)\n",
    "labels = np.concatenate([positives, negatives])\n",
    "\n",
    "f1_score(labels, predictions, average='macro')\n"
   ]
  },
  {
   "cell_type": "code",
   "execution_count": 15,
   "metadata": {},
   "outputs": [
    {
     "name": "stdout",
     "output_type": "stream",
     "text": [
      "tensor([[1., 1., 1., 1., 1., 1., 1., 1., 1., 1., 1., 1., 1., 1., 1., 1., 0., 0.,\n",
      "         0., 0., 0., 0., 0., 0., 0., 0., 0., 0., 0., 0., 0., 0., 0., 0., 0., 0.,\n",
      "         0., 0., 0., 0., 0., 0., 0., 0., 0., 0., 0., 0.],\n",
      "        [1., 1., 1., 1., 1., 1., 1., 1., 1., 1., 1., 1., 1., 1., 1., 1., 1., 1.,\n",
      "         1., 1., 1., 1., 1., 1., 1., 1., 1., 1., 1., 1., 1., 1., 0., 0., 0., 0.,\n",
      "         0., 0., 0., 0., 0., 0., 0., 0., 0., 0., 0., 0.]])\n",
      "torch.Size([2, 48])\n",
      "torch.Size([2, 1, 48])\n",
      "torch.Size([2, 1, 48])\n",
      "torch.Size([2, 16, 48])\n",
      "tensor([ True,  True,  True,  True,  True,  True,  True,  True,  True,  True,\n",
      "         True,  True,  True,  True,  True,  True, False, False, False, False,\n",
      "        False, False, False, False, False, False, False, False, False, False,\n",
      "        False, False, False, False, False, False, False, False, False, False,\n",
      "        False, False, False, False, False, False, False, False])\n"
     ]
    }
   ],
   "source": [
    "b, L, n, d = 2, 48, 16, 256\n",
    "\n",
    "\n",
    "attention_mask = torch.ones(b, L)\n",
    "attention_mask[0, 16:] = 0\n",
    "attention_mask[1, 32:] = 0\n",
    "\n",
    "print(attention_mask)\n",
    "print(attention_mask.shape)\n",
    "\n",
    "test_mask = attention_mask.unsqueeze(1)\n",
    "print(test_mask.shape)\n",
    "\n",
    "attention_mask = attention_mask[:, None, :]\n",
    "print(attention_mask.shape)\n",
    "\n",
    "attention_mask = attention_mask.expand(b, n, L).bool()\n",
    "print(attention_mask.shape)\n",
    "\n",
    "print(attention_mask[0, 0, :])\n",
    "\n",
    "\n",
    "\n",
    "\n"
   ]
  },
  {
   "cell_type": "code",
   "execution_count": null,
   "metadata": {},
   "outputs": [],
   "source": []
  }
 ],
 "metadata": {
  "kernelspec": {
   "display_name": "Python 3",
   "language": "python",
   "name": "python3"
  },
  "language_info": {
   "codemirror_mode": {
    "name": "ipython",
    "version": 3
   },
   "file_extension": ".py",
   "mimetype": "text/x-python",
   "name": "python",
   "nbconvert_exporter": "python",
   "pygments_lexer": "ipython3",
   "version": "3.11.8"
  }
 },
 "nbformat": 4,
 "nbformat_minor": 2
}
